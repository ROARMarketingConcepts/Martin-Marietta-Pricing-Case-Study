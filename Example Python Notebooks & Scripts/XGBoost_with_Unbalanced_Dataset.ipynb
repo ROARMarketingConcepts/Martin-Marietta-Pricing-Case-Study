{
  "nbformat": 4,
  "nbformat_minor": 0,
  "metadata": {
    "colab": {
      "provenance": [],
      "gpuType": "T4"
    },
    "kernelspec": {
      "name": "python3",
      "display_name": "Python 3"
    },
    "language_info": {
      "name": "python"
    },
    "accelerator": "GPU"
  },
  "cells": [
    {
      "cell_type": "code",
      "source": [
        "import pandas as pd\n",
        "import numpy as np\n",
        "import matplotlib.pyplot as plt\n",
        "import seaborn as sns\n",
        "from sklearn.model_selection import train_test_split\n",
        "from sklearn.preprocessing import StandardScaler\n",
        "import warnings\n",
        "warnings.filterwarnings(\"ignore\")"
      ],
      "metadata": {
        "id": "HuMD5ssN0pUD"
      },
      "execution_count": 1,
      "outputs": []
    },
    {
      "cell_type": "code",
      "source": [
        "path = '/content/drive/MyDrive/Colab_Notebooks/Handling Unbalanced Datasets/data/creditcard.csv'\n",
        "\n",
        "def load_and_split_data(path):\n",
        "  df = pd.read_csv(path)\n",
        "  X = df.drop('Class', axis=1)\n",
        "  y = df['Class']\n",
        "\n",
        "  # Standardize 'Amount'\n",
        "  X['Amount'] = StandardScaler().fit_transform(X[['Amount']])\n",
        "\n",
        "  return train_test_split(X, y, test_size=0.2, stratify=y, random_state=42)\n"
      ],
      "metadata": {
        "id": "6b56VIqijdlY"
      },
      "execution_count": 2,
      "outputs": []
    },
    {
      "cell_type": "code",
      "source": [
        "from imblearn.over_sampling import SMOTE\n",
        "from sklearn.model_selection import GridSearchCV\n",
        "import xgboost as xgb\n",
        "# from preprocessing import load_and_split_data\n",
        "\n",
        "def train_with_smote(path):\n",
        "    X_train, X_test, y_train, y_test = load_and_split_data(path)\n",
        "    X_res, y_res = SMOTE(random_state=42).fit_resample(X_train, y_train)\n",
        "\n",
        "    # Param grid\n",
        "    param_grid = {\n",
        "        'max_depth': [3, 5, 7],\n",
        "        'learning_rate': [0.01, 0.1],\n",
        "        'n_estimators': [100, 200],\n",
        "        'subsample': [0.8, 1.0]\n",
        "    }\n",
        "\n",
        "    model = xgb.XGBClassifier(use_label_encoder=False, eval_metric='logloss')\n",
        "    grid = GridSearchCV(model, param_grid, scoring='f1', cv=3, verbose=1)\n",
        "    grid.fit(X_res, y_res)\n",
        "\n",
        "    print(\"Best params (SMOTE):\", grid.best_params_)\n",
        "    return grid.best_estimator_, X_test, y_test\n"
      ],
      "metadata": {
        "id": "kD8EVGbnjhdx"
      },
      "execution_count": 3,
      "outputs": []
    },
    {
      "cell_type": "code",
      "source": [
        "import xgboost as xgb\n",
        "# from preprocessing import load_and_split_data\n",
        "\n",
        "def train_with_weight(path):\n",
        "    X_train, X_test, y_train, y_test = load_and_split_data(path)\n",
        "    scale = (y_train == 0).sum() / (y_train == 1).sum()\n",
        "    # Param grid\n",
        "    param_grid = {\n",
        "        'max_depth': [3, 5, 7],\n",
        "        'learning_rate': [0.01, 0.1],\n",
        "        'n_estimators': [100, 200],\n",
        "        'subsample': [0.8, 1.0]\n",
        "    }\n",
        "    model = xgb.XGBClassifier(use_label_encoder=False, eval_metric='logloss', scale_pos_weight=scale)\n",
        "    grid = GridSearchCV(model, param_grid, scoring='f1', cv=3, verbose=1)\n",
        "    grid.fit(X_train, y_train)\n",
        "    print(\"Best params (scale_pos_weight):\", grid.best_params_)\n",
        "    return grid.best_estimator_, X_test, y_test\n"
      ],
      "metadata": {
        "id": "a4Ba2SSVjl44"
      },
      "execution_count": 4,
      "outputs": []
    },
    {
      "cell_type": "code",
      "source": [
        "from sklearn.metrics import classification_report,confusion_matrix\n",
        "\n",
        "def evaluate(model, X_test, y_test, label):\n",
        "    y_pred = model.predict(X_test)\n",
        "    print(f\"\\n{label} Results:\\n\")\n",
        "    print(classification_report(y_test, y_pred, digits=4))\n",
        "    print('Confusion Matrix:\\n\\n', confusion_matrix(y_test, y_pred))\n",
        "\n"
      ],
      "metadata": {
        "id": "SB3_z9vdjoOQ"
      },
      "execution_count": 5,
      "outputs": []
    },
    {
      "cell_type": "code",
      "source": [
        "# from smote_pipeline import train_with_smote\n",
        "# from weight_pipeline import train_with_weight\n",
        "# from evaluate import evaluate\n",
        "\n",
        "model_smote, X_test, y_test = train_with_smote(path)\n",
        "evaluate(model_smote, X_test, y_test, \"SMOTE\")\n",
        "\n",
        "model_weight, X_test, y_test = train_with_weight(path)\n",
        "evaluate(model_weight, X_test, y_test, \"scale_pos_weight\")\n"
      ],
      "metadata": {
        "colab": {
          "base_uri": "https://localhost:8080/"
        },
        "id": "vebDsrpRjqDR",
        "outputId": "96539520-f43e-4b24-e2cc-60774ec41292"
      },
      "execution_count": 6,
      "outputs": [
        {
          "output_type": "stream",
          "name": "stdout",
          "text": [
            "Fitting 3 folds for each of 24 candidates, totalling 72 fits\n",
            "Best params (SMOTE): {'learning_rate': 0.1, 'max_depth': 7, 'n_estimators': 200, 'subsample': 1.0}\n",
            "\n",
            "SMOTE Results:\n",
            "\n",
            "              precision    recall  f1-score   support\n",
            "\n",
            "           0     0.9998    0.9995    0.9996     56864\n",
            "           1     0.7589    0.8673    0.8095        98\n",
            "\n",
            "    accuracy                         0.9993     56962\n",
            "   macro avg     0.8793    0.9334    0.9046     56962\n",
            "weighted avg     0.9994    0.9993    0.9993     56962\n",
            "\n",
            "Confusion Matrix:\n",
            "\n",
            " [[56837    27]\n",
            " [   13    85]]\n",
            "Fitting 3 folds for each of 24 candidates, totalling 72 fits\n",
            "Best params (scale_pos_weight): {'learning_rate': 0.1, 'max_depth': 7, 'n_estimators': 200, 'subsample': 0.8}\n",
            "\n",
            "scale_pos_weight Results:\n",
            "\n",
            "              precision    recall  f1-score   support\n",
            "\n",
            "           0     0.9997    0.9997    0.9997     56864\n",
            "           1     0.8438    0.8265    0.8351        98\n",
            "\n",
            "    accuracy                         0.9994     56962\n",
            "   macro avg     0.9217    0.9131    0.9174     56962\n",
            "weighted avg     0.9994    0.9994    0.9994     56962\n",
            "\n",
            "Confusion Matrix:\n",
            "\n",
            " [[56849    15]\n",
            " [   17    81]]\n"
          ]
        }
      ]
    }
  ]
}