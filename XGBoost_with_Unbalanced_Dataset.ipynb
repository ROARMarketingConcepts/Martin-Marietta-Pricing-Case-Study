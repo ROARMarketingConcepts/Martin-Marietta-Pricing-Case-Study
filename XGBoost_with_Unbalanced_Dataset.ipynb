{
  "nbformat": 4,
  "nbformat_minor": 0,
  "metadata": {
    "colab": {
      "provenance": []
    },
    "kernelspec": {
      "name": "python3",
      "display_name": "Python 3"
    },
    "language_info": {
      "name": "python"
    }
  },
  "cells": [
    {
      "cell_type": "code",
      "source": [
        "import pandas as pd\n",
        "import numpy as np\n",
        "import matplotlib.pyplot as plt\n",
        "import seaborn as sns\n",
        "from sklearn.model_selection import train_test_split\n",
        "from sklearn.preprocessing import StandardScaler\n",
        "\n",
        "path = '/content/drive/MyDrive/Colab_Notebooks/Handling Unbalanced Datasets/data/creditcard.csv'\n",
        "\n",
        "def load_and_split_data(path):\n",
        "  df = pd.read_csv(path)\n",
        "  X = df.drop('Class', axis=1)\n",
        "  y = df['Class']\n",
        "\n",
        "  # Standardize 'Amount'\n",
        "  X['Amount'] = StandardScaler().fit_transform(X[['Amount']])\n",
        "\n",
        "  return train_test_split(X, y, test_size=0.2, stratify=y, random_state=42)\n",
        "\n",
        "from imblearn.over_sampling import SMOTE\n",
        "import xgboost as xgb\n",
        "# from preprocessing import load_and_split_data\n",
        "\n",
        "def train_with_smote():\n",
        "    X_train, X_test, y_train, y_test = load_and_split_data(path)\n",
        "    X_res, y_res = SMOTE(random_state=42).fit_resample(X_train, y_train)\n",
        "\n",
        "    model = xgb.XGBClassifier(use_label_encoder=False, eval_metric='logloss')\n",
        "    model.fit(X_res, y_res)\n",
        "    return model, X_test, y_test\n",
        "\n",
        "import xgboost as xgb\n",
        "# from preprocessing import load_and_split_data\n",
        "\n",
        "def train_with_weight():\n",
        "    X_train, X_test, y_train, y_test = load_and_split_data(path)\n",
        "    scale = (y_train == 0).sum() / (y_train == 1).sum()\n",
        "\n",
        "    model = xgb.XGBClassifier(use_label_encoder=False, eval_metric='logloss', scale_pos_weight=scale)\n",
        "    model.fit(X_train, y_train)\n",
        "    return model, X_test, y_test\n",
        "\n",
        "\n",
        "from sklearn.metrics import classification_report,confusion_matrix\n",
        "\n",
        "def evaluate(model, X_test, y_test, label):\n",
        "    y_pred = model.predict(X_test)\n",
        "    print(f\"\\n{label} Results:\\n\")\n",
        "    print(classification_report(y_test, y_pred, digits=4))\n",
        "    print(confusion_matrix(y_test, y_pred))\n",
        "\n",
        "\n",
        "\n",
        "# from smote_pipeline import train_with_smote\n",
        "# from weight_pipeline import train_with_weight\n",
        "# from evaluate import evaluate\n",
        "\n",
        "model_smote, X_test, y_test = train_with_smote()\n",
        "evaluate(model_smote, X_test, y_test, \"SMOTE\")\n",
        "\n",
        "model_weight, X_test, y_test = train_with_weight()\n",
        "evaluate(model_weight, X_test, y_test, \"scale_pos_weight\")\n"
      ],
      "metadata": {
        "colab": {
          "base_uri": "https://localhost:8080/"
        },
        "id": "HuMD5ssN0pUD",
        "outputId": "f7ef6bc8-e12e-493b-a9f5-897851d2c520"
      },
      "execution_count": 13,
      "outputs": [
        {
          "output_type": "stream",
          "name": "stderr",
          "text": [
            "/usr/local/lib/python3.11/dist-packages/xgboost/core.py:158: UserWarning: [23:28:53] WARNING: /workspace/src/learner.cc:740: \n",
            "Parameters: { \"use_label_encoder\" } are not used.\n",
            "\n",
            "  warnings.warn(smsg, UserWarning)\n"
          ]
        },
        {
          "output_type": "stream",
          "name": "stdout",
          "text": [
            "\n",
            "SMOTE Results:\n",
            "\n",
            "              precision    recall  f1-score   support\n",
            "\n",
            "           0     0.9998    0.9996    0.9997     56864\n",
            "           1     0.7727    0.8673    0.8173        98\n",
            "\n",
            "    accuracy                         0.9993     56962\n",
            "   macro avg     0.8862    0.9335    0.9085     56962\n",
            "weighted avg     0.9994    0.9993    0.9994     56962\n",
            "\n",
            "[[56839    25]\n",
            " [   13    85]]\n"
          ]
        },
        {
          "output_type": "stream",
          "name": "stderr",
          "text": [
            "/usr/local/lib/python3.11/dist-packages/xgboost/core.py:158: UserWarning: [23:29:05] WARNING: /workspace/src/learner.cc:740: \n",
            "Parameters: { \"use_label_encoder\" } are not used.\n",
            "\n",
            "  warnings.warn(smsg, UserWarning)\n"
          ]
        },
        {
          "output_type": "stream",
          "name": "stdout",
          "text": [
            "\n",
            "scale_pos_weight Results:\n",
            "\n",
            "              precision    recall  f1-score   support\n",
            "\n",
            "           0     0.9997    0.9998    0.9998     56864\n",
            "           1     0.8817    0.8367    0.8586        98\n",
            "\n",
            "    accuracy                         0.9995     56962\n",
            "   macro avg     0.9407    0.9183    0.9292     56962\n",
            "weighted avg     0.9995    0.9995    0.9995     56962\n",
            "\n",
            "[[56853    11]\n",
            " [   16    82]]\n"
          ]
        }
      ]
    }
  ]
}